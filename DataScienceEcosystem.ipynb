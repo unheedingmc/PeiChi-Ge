{
 "cells": [
  {
   "cell_type": "markdown",
   "id": "9d0b7745-89b1-4af6-a162-2974f5b96f12",
   "metadata": {},
   "source": [
    "# Data Science Tools and Ecosystem"
   ]
  },
  {
   "cell_type": "markdown",
   "id": "d93bb7f8-a48c-4c56-bd05-9f60f7b239fc",
   "metadata": {},
   "source": [
    "In this notebook, Data Science Tools and Ecosystem are summarized."
   ]
  },
  {
   "cell_type": "markdown",
   "id": "8ad4f88b-16e1-4095-ac5c-7f0c818945f5",
   "metadata": {},
   "source": [
    "**Objectives:**\n",
    "* List popular languages for Data Science\n",
    "* List popular libraries for Data Science\n",
    "* List a few example"
   ]
  },
  {
   "cell_type": "markdown",
   "id": "a6c56052-957b-4ed5-a817-c05457b1c55a",
   "metadata": {
    "tags": []
   },
   "source": [
    "Some of the popular languages that Data Scientists use are:\n",
    "1. R\n",
    "2. Python\n",
    "3. Julia\n",
    "4. Java\n",
    "5. Scala"
   ]
  },
  {
   "cell_type": "markdown",
   "id": "54e77203-0e82-48dc-9df2-8bfb072d0068",
   "metadata": {},
   "source": [
    "Some of the commonly used libraries used by Data Scientists include:\n",
    "1. Pandas\n",
    "2. Seabom\n",
    "3. Numpy"
   ]
  },
  {
   "cell_type": "markdown",
   "id": "0507cc7d-71a3-4e91-8494-32065fbde885",
   "metadata": {
    "tags": []
   },
   "source": [
    "|Data Science Tools|\n",
    "|-|\n",
    "|Spark|\n",
    "|Flink|\n",
    "|openGuass|"
   ]
  },
  {
   "cell_type": "markdown",
   "id": "dc686717-7153-4fe9-a63e-3cdb42b1e219",
   "metadata": {
    "jupyter": {
     "outputs_hidden": true
    },
    "tags": []
   },
   "source": [
    "### Below are a few examples of evaluating arithmetic expressions in Python"
   ]
  },
  {
   "cell_type": "code",
   "execution_count": 4,
   "id": "05b9093e-dd16-4774-8c0a-b21e2806be8f",
   "metadata": {
    "tags": []
   },
   "outputs": [
    {
     "data": {
      "text/plain": [
       "17"
      ]
     },
     "execution_count": 4,
     "metadata": {},
     "output_type": "execute_result"
    }
   ],
   "source": [
    "#This a simple arithmetic expression to mutiply then add integers\n",
    "(3*4)+5"
   ]
  },
  {
   "cell_type": "code",
   "execution_count": 5,
   "id": "0654fa43-b495-4b75-84ba-8ce8c0166f31",
   "metadata": {},
   "outputs": [
    {
     "data": {
      "text/plain": [
       "3.3333333333333335"
      ]
     },
     "execution_count": 5,
     "metadata": {},
     "output_type": "execute_result"
    }
   ],
   "source": [
    "# This will convert 200 minutes to hours by diving by 60\n",
    "200/60"
   ]
  },
  {
   "cell_type": "markdown",
   "id": "f496b60e-c6dc-4ae4-a711-7c06b1a0d01d",
   "metadata": {},
   "source": [
    "## Author\n",
    "PeiChi Ge"
   ]
  },
  {
   "cell_type": "code",
   "execution_count": null,
   "id": "58863412-f854-451e-a9e3-920e4bc2cdb3",
   "metadata": {},
   "outputs": [],
   "source": []
  }
 ],
 "metadata": {
  "kernelspec": {
   "display_name": "Python 3 (ipykernel)",
   "language": "python",
   "name": "python3"
  },
  "language_info": {
   "codemirror_mode": {
    "name": "ipython",
    "version": 3
   },
   "file_extension": ".py",
   "mimetype": "text/x-python",
   "name": "python",
   "nbconvert_exporter": "python",
   "pygments_lexer": "ipython3",
   "version": "3.10.9"
  }
 },
 "nbformat": 4,
 "nbformat_minor": 5
}
